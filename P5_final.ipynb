{
 "cells": [
  {
   "cell_type": "code",
   "execution_count": 2,
   "metadata": {
    "collapsed": false,
    "deletable": true,
    "editable": true
   },
   "outputs": [],
   "source": [
    "# -*- coding: utf-8 -*-\n",
    "\"\"\"\n",
    "Created on Thu Mar 30 13:54:32 2017\n",
    "\n",
    "@author: vicentej\n",
    "\"\"\"\n",
    "\n",
    "import matplotlib.image as mpimg\n",
    "import matplotlib.pyplot as plt\n",
    "import numpy as np\n",
    "import cv2\n",
    "import glob\n",
    "import time\n",
    "import os\n",
    "from sklearn.svm import LinearSVC, SVC\n",
    "from sklearn.preprocessing import StandardScaler\n",
    "from skimage.feature import hog\n",
    "from P5_functions import *\n",
    "from P4_functions import *\n",
    "from sklearn.model_selection import train_test_split\n",
    "from collections import deque\n",
    "import pickle\n",
    "from sklearn.model_selection import GridSearchCV"
   ]
  },
  {
   "cell_type": "code",
   "execution_count": 3,
   "metadata": {
    "collapsed": false,
    "deletable": true,
    "editable": true
   },
   "outputs": [
    {
     "name": "stdout",
     "output_type": "stream",
     "text": [
      "Car Images > img/vehicles/GTI_Far/*\n",
      "Car Images > img/vehicles/GTI_Left/*\n",
      "Car Images > img/vehicles/GTI_MiddleClose/*\n",
      "Car Images > img/vehicles/GTI_Right/*\n",
      "Car Images > img/vehicles/KITTI_extracted/*\n",
      "Not Car Images > img/non-vehicles/Extras/*\n",
      "Not Car Images > img/non-vehicles/GTI/*\n",
      "Total car images: 8792\n",
      "Total not car images: 8968\n"
     ]
    }
   ],
   "source": [
    "writeImagesOut = True\n",
    "basedir = \"img/vehicles/\"\n",
    "sub_folders = os.listdir(basedir)\n",
    "cars = []\n",
    "for sub_folder in sub_folders:\n",
    "    print(\"Car Images > \" + basedir + sub_folder + \"/*\")\n",
    "    cars.extend(glob.glob(basedir + sub_folder + \"/*\"))\n",
    "\n",
    "basedir = \"img/non-vehicles/\"\n",
    "sub_folders = os.listdir(basedir)\n",
    "notcars = []\n",
    "for sub_folder in sub_folders:\n",
    "    print(\"Not Car Images > \" + basedir + sub_folder + \"/*\")\n",
    "    notcars.extend(glob.glob(basedir + sub_folder + \"/*\"))\n",
    "\n",
    "print('Total car images: ' + str(len(cars)))\n",
    "print('Total not car images: ' + str(len(notcars)))\n",
    "\n",
    "if (writeImagesOut):\n",
    "    with open(\"car_images.txt\",'w') as f:\n",
    "        for fn in cars:\n",
    "            f.write(fn+'\\n')\n",
    "    with open(\"not_cars_images.txt\",'w') as f:\n",
    "        for fn in notcars:\n",
    "            f.write(fn+'\\n')\n",
    "    \n",
    "\n"
   ]
  },
  {
   "cell_type": "code",
   "execution_count": 4,
   "metadata": {
    "collapsed": true,
    "deletable": true,
    "editable": true
   },
   "outputs": [],
   "source": [
    "### Function for training the model using SVM based on parameters received\n",
    "\n",
    "def train_model(color_space, orient, pix_per_cell, cell_per_block, hog_channel, spatial_size,\n",
    "                hist_bins, spatial_feat, hist_feat, hog_feat, x_start_stop, y_start_stop):\n",
    "    car_features = extract_features(cars, color_space=color_space, \n",
    "                        spatial_size=spatial_size, hist_bins=hist_bins, \n",
    "                        orient=orient, pix_per_cell=pix_per_cell, \n",
    "                        cell_per_block=cell_per_block, \n",
    "                        hog_channel=hog_channel, spatial_feat=spatial_feat, \n",
    "                        hist_feat=hist_feat, hog_feat=hog_feat)\n",
    "    notcar_features = extract_features(notcars, color_space=color_space, \n",
    "                        spatial_size=spatial_size, hist_bins=hist_bins, \n",
    "                        orient=orient, pix_per_cell=pix_per_cell, \n",
    "                        cell_per_block=cell_per_block, \n",
    "                        hog_channel=hog_channel, spatial_feat=spatial_feat, \n",
    "                        hist_feat=hist_feat, hog_feat=hog_feat)\n",
    "    \n",
    "    X = np.vstack((car_features, notcar_features)).astype(np.float64)                        \n",
    "    # Fit a per-column scaler\n",
    "    X_scaler = StandardScaler(copy=True, with_mean=True, with_std=True).fit(X)\n",
    "    # Apply the scaler to X\n",
    "    scaled_X = X_scaler.transform(X)\n",
    "\n",
    "    # Define the labels vector\n",
    "    y = np.hstack((np.ones(len(car_features)), np.zeros(len(notcar_features))))\n",
    "\n",
    "    # Split up data into randomized training and test sets\n",
    "    rand_state = np.random.randint(0, 100)\n",
    "    X_train, X_test, y_train, y_test = train_test_split(\n",
    "        scaled_X, y, test_size=0.2, random_state=rand_state)\n",
    "    \n",
    "    #svc = LinearSVC(C=1.0, class_weight=None, dual=True, fit_intercept=True,\n",
    "    #     intercept_scaling=1, loss='squared_hinge', max_iter=1000,\n",
    "    #     multi_class='ovr', penalty='l2', random_state=None, tol=0.0001,\n",
    "    #     verbose=1)\n",
    "    svc = LinearSVC()\n",
    "    svc.fit(X_train, y_train)\n",
    "    score = svc.score(X_test, y_test)\n",
    "    return svc, score, X_scaler\n",
    "\n",
    "\n",
    "def train_model_optimized(color_space, orient, pix_per_cell, cell_per_block, hog_channel, spatial_size,\n",
    "                hist_bins, spatial_feat, hist_feat, hog_feat, x_start_stop, y_start_stop):\n",
    "    car_features = extract_features(cars, color_space=color_space, \n",
    "                        spatial_size=spatial_size, hist_bins=hist_bins, \n",
    "                        orient=orient, pix_per_cell=pix_per_cell, \n",
    "                        cell_per_block=cell_per_block, \n",
    "                        hog_channel=hog_channel, spatial_feat=spatial_feat, \n",
    "                        hist_feat=hist_feat, hog_feat=hog_feat)\n",
    "    notcar_features = extract_features(notcars, color_space=color_space, \n",
    "                        spatial_size=spatial_size, hist_bins=hist_bins, \n",
    "                        orient=orient, pix_per_cell=pix_per_cell, \n",
    "                        cell_per_block=cell_per_block, \n",
    "                        hog_channel=hog_channel, spatial_feat=spatial_feat, \n",
    "                        hist_feat=hist_feat, hog_feat=hog_feat)\n",
    "    \n",
    "    X = np.vstack((car_features, notcar_features)).astype(np.float64)                        \n",
    "    # Fit a per-column scaler\n",
    "    X_scaler = StandardScaler(copy=True, with_mean=True, with_std=True).fit(X)\n",
    "    # Apply the scaler to X\n",
    "    scaled_X = X_scaler.transform(X)\n",
    "\n",
    "    # Define the labels vector\n",
    "    y = np.hstack((np.ones(len(car_features)), np.zeros(len(notcar_features))))\n",
    "\n",
    "    # Split up data into randomized training and test sets\n",
    "    \n",
    "    rand_state = np.random.randint(0, 100)\n",
    "    X_train, X_test, y_train, y_test = train_test_split(\n",
    "        scaled_X, y, test_size=0.2, random_state=rand_state)\n",
    "    \n",
    "    #svc = LinearSVC(C=1.0, class_weight=None, dual=True, fit_intercept=True,\n",
    "    #     intercept_scaling=1, loss='squared_hinge', max_iter=1000,\n",
    "    #     multi_class='ovr', penalty='l2', random_state=None, tol=0.0001,\n",
    "    #     verbose=1)\n",
    "    \n",
    "    parameters = {'kernel':('linear', 'rbf'), 'C':[0.01, 0.1, 1, 10],'gamma':[0.01, 0.1, 1, 10]}\n",
    "    svr = SVC()\n",
    "    clf = GridSearchCV(svr, parameters)\n",
    "    clf.fit(X_train, y_train)\n",
    "    print(clf.best_params_)\n",
    "   \n",
    "    score = svr.score(X_test, y_test)\n",
    "    return svr, score, X_scaler\n"
   ]
  },
  {
   "cell_type": "code",
   "execution_count": 5,
   "metadata": {
    "collapsed": true,
    "deletable": true,
    "editable": true
   },
   "outputs": [],
   "source": [
    "### Parameters configuration\n",
    "\n",
    "color_space = 'YCrCb' # Can be RGB, HSV, LUV, HLS, YUV, YCrCb\n",
    "orient = 10  # HOG orientations\n",
    "pix_per_cell = 8 # HOG pixels per cell\n",
    "cell_per_block = 2 # HOG cells per block\n",
    "hog_channel = \"ALL\" # Can be 0, 1, 2, or \"ALL\"\n",
    "spatial_size = (32, 32) # Spatial binning dimensions\n",
    "hist_bins = 32    # Number of histogram bins\n",
    "spatial_feat = True # Spatial features on or off\n",
    "hist_feat = True # Histogram features on or off\n",
    "hog_feat = True # HOG features on or off\n",
    "#x_start_stop = [600, 1280] # Min and max in y to search in slide_window()\n",
    "x_start_stop = [None, None]\n",
    "y_start_stop = [400, 656] # Min and max in y to search in slide_window()"
   ]
  },
  {
   "cell_type": "code",
   "execution_count": 6,
   "metadata": {
    "collapsed": false,
    "deletable": true,
    "editable": true
   },
   "outputs": [
    {
     "name": "stdout",
     "output_type": "stream",
     "text": [
      "Test accuracy:  0.9893\n"
     ]
    }
   ],
   "source": [
    "### Obtain a model (either retraining or from previous training)\n",
    "\n",
    "retrain = False\n",
    "find_optimum = False\n",
    "\n",
    "if (retrain):\n",
    "    if (find_optimum):\n",
    "        svc, score, X_scaler = train_model_optimized(color_space, orient, pix_per_cell, cell_per_block, hog_channel, spatial_size,\n",
    "                      hist_bins, spatial_feat, hist_feat, hog_feat, x_start_stop, y_start_stop)\n",
    "    else:\n",
    "        svc, score, X_scaler = train_model(color_space, orient, pix_per_cell, cell_per_block, hog_channel, spatial_size,\n",
    "                      hist_bins, spatial_feat, hist_feat, hog_feat, x_start_stop, y_start_stop)\n",
    "    model_data = [svc, score, X_scaler]\n",
    "    pickle.dump(model_data, open( \"P5_model.p\", \"wb\" ))\n",
    "else:\n",
    "    model_data = pickle.load(open( \"P5_model.p\", \"rb\" ))\n",
    "    svc, score, X_scaler = model_data[0], model_data[1], model_data[2]\n",
    "\n",
    "\n",
    "# Check the score of the SVC\n",
    "print('Test accuracy: ', round(score, 4))\n"
   ]
  },
  {
   "cell_type": "code",
   "execution_count": 7,
   "metadata": {
    "collapsed": false,
    "deletable": true,
    "editable": true
   },
   "outputs": [
    {
     "name": "stderr",
     "output_type": "stream",
     "text": [
      "<ipython-input-7-97a90c45454c>:8: SyntaxWarning: name 'heat_list' is used prior to global declaration\n",
      "  global heat_list\n",
      "<ipython-input-7-97a90c45454c>:19: SyntaxWarning: name 'heat_list' is used prior to global declaration\n",
      "  global heat_list\n"
     ]
    }
   ],
   "source": [
    "### Functions for processing images\n",
    "from PIL import Image\n",
    "\n",
    "def process_image_persistent(image):    \n",
    "    #out_img = locate_cars(image, heat_list)\n",
    "    t_hl = heat_list\n",
    "    out_img, t_hl = locate_cars_persistent(image, heat_list, svc, X_scaler, y_start_stop, orient, pix_per_cell, cell_per_block, spatial_size, hist_bins, heat_thresold, True, False)\n",
    "    global heat_list\n",
    "    heat_list = t_hl\n",
    "    return out_img\n",
    "\n",
    "def process_image_simple(image):    \n",
    "    out_img = locate_cars(image, svc, X_scaler, y_start_stop, orient, pix_per_cell, cell_per_block, spatial_size, hist_bins)\n",
    "    return out_img\n",
    "\n",
    "def process_image_full(image):\n",
    "    t_hl = heat_list\n",
    "    out_img, t_hl = locate_cars_persistent(image, heat_list, svc, X_scaler, y_start_stop, orient, pix_per_cell, cell_per_block, spatial_size, hist_bins, heat_thresold, True, False)\n",
    "    global heat_list\n",
    "    heat_list = t_hl\n",
    "    lane_image = locate_lane(out_img, last_data, mtx, dist)\n",
    "    return lane_image "
   ]
  },
  {
   "cell_type": "code",
   "execution_count": 8,
   "metadata": {
    "collapsed": false,
    "deletable": true,
    "editable": true
   },
   "outputs": [
    {
     "name": "stdout",
     "output_type": "stream",
     "text": [
      "[MoviePy] >>>> Building video project_video_out_final.mp4\n",
      "[MoviePy] Writing video project_video_out_final.mp4\n"
     ]
    },
    {
     "name": "stderr",
     "output_type": "stream",
     "text": [
      "100%|█████████████████████████████████████████████████████████████████████████████▉| 1260/1261 [09:05<00:00,  2.31it/s]\n"
     ]
    },
    {
     "name": "stdout",
     "output_type": "stream",
     "text": [
      "[MoviePy] Done.\n",
      "[MoviePy] >>>> Video ready: project_video_out_final.mp4 \n",
      "\n",
      "Wall time: 9min 6s\n"
     ]
    }
   ],
   "source": [
    "### Video processing\n",
    "from moviepy.editor import VideoFileClip\n",
    "from IPython.display import HTML\n",
    "\n",
    "heat_list = deque(maxlen = 8)\n",
    "heat_list.clear()\n",
    "heat_thresold = 6\n",
    "\n",
    "last_data = []\n",
    "objpoints, imgpoints = calibrate()\n",
    "# Do camera calibration given object points and image points\n",
    "img = cv2.imread('camera_cal/test_image.jpg')\n",
    "img_size = (img.shape[1], img.shape[0])\n",
    "ret, mtx, dist, rvecs, tvecs = cv2.calibrateCamera(objpoints, imgpoints, img_size,None,None)\n",
    "\n",
    "video_out = 'project_video_out_final.mp4'\n",
    "clip1 = VideoFileClip(\"project_video.mp4\")\n",
    "#clip1 = VideoFileClip(\"out_22_25.mp4\")\n",
    "#clip1 = VideoFileClip(\"challenge_video_shorter.mp4\")\n",
    "challenge_clip = clip1.fl_image(process_image_full) #NOTE: this function expects color images!!\n",
    "%time challenge_clip.write_videofile(video_out, audio=False)\n"
   ]
  },
  {
   "cell_type": "code",
   "execution_count": 9,
   "metadata": {
    "collapsed": false,
    "deletable": true,
    "editable": true
   },
   "outputs": [
    {
     "data": {
      "text/html": [
       "\n",
       "<video width=\"960\" height=\"540\" controls>\n",
       "  <source src=\"project_video_out_final.mp4\">\n",
       "</video>\n"
      ],
      "text/plain": [
       "<IPython.core.display.HTML object>"
      ]
     },
     "execution_count": 9,
     "metadata": {},
     "output_type": "execute_result"
    }
   ],
   "source": [
    "HTML(\"\"\"\n",
    "<video width=\"960\" height=\"540\" controls>\n",
    "  <source src=\"{0}\">\n",
    "</video>\n",
    "\"\"\".format(video_out))"
   ]
  },
  {
   "cell_type": "code",
   "execution_count": null,
   "metadata": {
    "collapsed": true,
    "deletable": true,
    "editable": true
   },
   "outputs": [],
   "source": []
  }
 ],
 "metadata": {
  "kernelspec": {
   "display_name": "Python 3",
   "language": "python",
   "name": "python3"
  },
  "language_info": {
   "codemirror_mode": {
    "name": "ipython",
    "version": 3
   },
   "file_extension": ".py",
   "mimetype": "text/x-python",
   "name": "python",
   "nbconvert_exporter": "python",
   "pygments_lexer": "ipython3",
   "version": "3.5.2"
  },
  "widgets": {
   "state": {},
   "version": "1.1.2"
  }
 },
 "nbformat": 4,
 "nbformat_minor": 2
}
